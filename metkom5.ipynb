{
 "cells": [
  {
   "cell_type": "code",
   "execution_count": 7,
   "metadata": {},
   "outputs": [],
   "source": [
    "import numpy as np\n",
    "window_length = 2"
   ]
  },
  {
   "cell_type": "code",
   "execution_count": 6,
   "metadata": {},
   "outputs": [],
   "source": [
    "def moving_average(A):\n",
    "    window_length = 2\n",
    "    if window_length %2==0:\n",
    "        nshift = int(window_length/2)\n",
    "    else:\n",
    "        nshift = int(window_length-1/2)\n",
    "    W = np.zeros((len(A),len(A)), dtype=np.float64)\n",
    "    w = np.roll(np.array([1.0 if i<window_length else 0.0 for i in range (len(A))]),-nshift)\n",
    "    for i in range (len(A)):\n",
    "        W[i,:] = np.roll(w,i)\n",
    "    MA= np.dot(W,A.T)/window_length\n",
    "    return MA"
   ]
  },
  {
   "cell_type": "code",
   "execution_count": null,
   "metadata": {},
   "outputs": [],
   "source": []
  }
 ],
 "metadata": {
  "kernelspec": {
   "display_name": "base",
   "language": "python",
   "name": "python3"
  },
  "language_info": {
   "codemirror_mode": {
    "name": "ipython",
    "version": 3
   },
   "file_extension": ".py",
   "mimetype": "text/x-python",
   "name": "python",
   "nbconvert_exporter": "python",
   "pygments_lexer": "ipython3",
   "version": "3.11.4"
  },
  "orig_nbformat": 4
 },
 "nbformat": 4,
 "nbformat_minor": 2
}
