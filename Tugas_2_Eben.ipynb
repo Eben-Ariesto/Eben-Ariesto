{
 "cells": [
  {
   "cell_type": "markdown",
   "metadata": {},
   "source": [
    "<h1 align=\"center\">Tugas Praktikum 2 Metode Komputasi</h1>\n",
    "\n",
    "<h2>Nomor 1</h2>\n",
    "Membuat tiga rumus fisika dasar dan operasikan rumus tersebut berdasarkan input yang ditentukan sendiri"
   ]
  },
  {
   "cell_type": "code",
   "execution_count": null,
   "metadata": {},
   "outputs": [],
   "source": [
    "# 1.1 medan magnet selenoida, difraksi, trafo\n"
   ]
  },
  {
   "cell_type": "markdown",
   "metadata": {},
   "source": []
  },
  {
   "cell_type": "code",
   "execution_count": 2,
   "metadata": {},
   "outputs": [
    {
     "name": "stdout",
     "output_type": "stream",
     "text": [
      "10967700.0\n"
     ]
    }
   ],
   "source": [
    "# Hydrogen lines emission\n",
    "rydberg = 1.09677*(10**7)\n",
    "n = int(input(\"Orbit awal elektron:\"))\n",
    "m = int(input(\"Orbit akhir elektron:\"))\n",
    "\n",
    "inv_lambda = rydberg*(1/n*n - 1/m*m)\n",
    "wavelength = 1/inv_lambda\n",
    "\n",
    "if wavelength < 0:\n",
    "    print(\"\")\n",
    "elif wavelength > 0:\n",
    "    print(\"\")\n",
    "else:\n",
    "    print(\"\")"
   ]
  },
  {
   "cell_type": "markdown",
   "metadata": {},
   "source": []
  },
  {
   "cell_type": "code",
   "execution_count": null,
   "metadata": {},
   "outputs": [],
   "source": [
    "# 1.3 Special Relativity\n",
    "x = float(input(\"Jarak (dalam satuan tahun cahaya): \"))\n",
    "v = float(input(\"Kecepatan (dalam satuan c): \"))\n",
    "print(\"Andi akan pergi ke bintang dengan jarak\", x, \"tahun cahaya dengan pesawat luar angkasa berkecepatan\", v, \"c\")\n",
    "print(\"...\")\n",
    "\n",
    "# Cek error\n",
    "if v > -1 and v < 0:\n",
    "    print(\"Andi menjauhi bintang tujuannya\")\n",
    "elif v == 0:\n",
    "    print(\"Andi tetap berada di Bumi\")\n",
    "elif v > 0 and v < 1:\n",
    "    print(\"Andi sudah sampai ke tujuan!\")\n",
    "    tB = round(x / v, 3)\n",
    "    xB = x\n",
    "    gamma = 1 / ((1 - (v*v / 1))**(1/2))\n",
    "    tA = round(tB / gamma, 3)\n",
    "    xA = round(xB / gamma, 3)\n",
    "    print(\"\")\n",
    "    print(\"Menurut Andi, perjalanan tersebut membutuhkan waktu\", tA, \"tahun dan melewati jarak\", xA, \"tahun cahaya.\")\n",
    "    print(\"Sedangkan menurut Budi yang diam di Bumi, Andi menempuh jarak\", xB, \"tahun cahaya dalam waktu\", tB, \"tahun.\")\n",
    "else:\n",
    "    print(\"ERROR!!! KECEPATAN TIDAK BISA MELEBIHI KECEPATAN CAHAYA\")"
   ]
  },
  {
   "cell_type": "markdown",
   "metadata": {},
   "source": [
    "Input: <br>\n",
    "x = 10 <br>\n",
    "v = 0.98 <br>\n",
    "\n",
    "Output: <br>\n",
    "Andi akan pergi ke bintang dengan jarak 10.0 tahun cahaya dengan pesawat luar angkasa berkecepatan 0.98 c <br>\n",
    "... <br>\n",
    "Andi sudah sampai ke tujuan! <br>\n",
    "\n",
    "Menurut Andi, perjalanan tersebut membutuhkan waktu 2.031 tahun dan melewati jarak 1.98997 tahun cahaya. <br>\n",
    "Sedangkan menurut Budi yang diam di Bumi, Andi menempuh jarak 10.0 tahun cahaya dalam waktu 10.204 tahun."
   ]
  },
  {
   "cell_type": "markdown",
   "metadata": {},
   "source": [
    "<h2>Nomor 2</h2>\n",
    "Membuat perumpamaan (if-else) dengan permasalahan sederhana"
   ]
  },
  {
   "cell_type": "code",
   "execution_count": null,
   "metadata": {},
   "outputs": [],
   "source": [
    "tahun = int(input(\"Tahun: \"))\n",
    "\n",
    "if (tahun % 4) == 0:\n",
    "    if (tahun % 100) == 0:\n",
    "        if (tahun % 400) == 0:\n",
    "            print(tahun, \"termasuk tahun kabisat\")\n",
    "        else:\n",
    "            print(tahun, \"bukan termasuk tahun kabisat\")\n",
    "    else:\n",
    "        print(tahun, \"termasuk tahun kabisat\")\n",
    "else:\n",
    "    print(tahun, \"bukan termasuk tahun kabisat\")"
   ]
  },
  {
   "cell_type": "markdown",
   "metadata": {},
   "source": [
    "<h2>Nomor 3</h2>\n",
    "Membuat list sederhana berisikan minimal data diri 20 orang random yang berisi [Nama, Umur, TB, BB]. Kemudian lakukan operasi if-else sederhana untuk memfilter data dari list orang-orang yang anda buat."
   ]
  },
  {
   "cell_type": "code",
   "execution_count": null,
   "metadata": {},
   "outputs": [],
   "source": [
    "import tabulate\n",
    "list = [[\"Annie\", 66, 1.57, 73], [\"William\", 69, 1.72, 99], [\"Melisa\", 39, 1.61, 54.5], [\"George\", 47, 1.78, 95.5],\n",
    "        [\"Maria\", 36, 1.62, 77.5], [\"James\", 24, 1.69, 83.5], [\"Evelyn\", 31, 1.73, 72], [\"Gary\", 42, 1.90, 65.5],\n",
    "        [\"Emily\", 44, 1.57, 52.5], [\"Harold\", 44, 1.79, 105], [\"Alissa\", 53, 1.71, 85], [\"Chester\", 42, 1.87, 85.5],\n",
    "        [\"Sharon\", 39, 1.53, 56.5], [\"Thomas\", 70, 1.90, 92], [\"Rose\", 73, 1.61, 68.5], [\"Hector\", 67, 1.83, 94],\n",
    "        [\"Joyce\", 49, 1.61, 48.5], [\"Richard\", 41, 1.71, 68], [\"Florence\", 41, 1.65, 62.5], [\"Paul\", 79, 1.87, 76]]\n",
    "\n",
    "print(\"\"\"\n",
    "Filter berdasarkan BMI:\n",
    "    1. Kekurangan Berat Badan\n",
    "    2. Berat Badan Ideal\n",
    "    3. Berat Badan Berlebih\n",
    "    4. Obesitas\n",
    "      \"\"\")\n",
    "pilihan = input(\"Pilih (ketik angka):\")\n",
    "\n",
    "for i in range(0,20):\n",
    "    temp = list[i][3] / list[i][2]\n",
    "    bmi = round(temp / list[i][2], 2)\n",
    "    list[i].append(bmi)\n",
    "    \n",
    "if pilihan == \"1\":\n",
    "    print(\"Kekurangan Berat Badan:\")\n",
    "    for i in range(0, 20):\n",
    "        if list[i][4] <= 18.5:\n",
    "            print(list[i])\n",
    "elif pilihan == \"2\":\n",
    "    print(\"Berat Badan Ideal:\")\n",
    "    for i in range(0, 20):\n",
    "        if list[i][4] > 18.5 and list[i][4] <= 24.9:\n",
    "            print(list[i])\n",
    "elif pilihan == \"3\":\n",
    "    print(\"Berat Badan Berlebih:\")\n",
    "    for i in range(0,20):\n",
    "        if list[i][4] > 24.9 and list[i][4] <= 29.9:\n",
    "            print(list[i])\n",
    "elif pilihan == \"4\":\n",
    "    print(\"Obesitas:\")\n",
    "    for i in range(0, 20):\n",
    "        if list[i][4] > 29.9:\n",
    "            print(list[i])\n",
    "else:\n",
    "    print(\"\")"
   ]
  }
 ],
 "metadata": {
  "kernelspec": {
   "display_name": "base",
   "language": "python",
   "name": "python3"
  },
  "language_info": {
   "codemirror_mode": {
    "name": "ipython",
    "version": 3
   },
   "file_extension": ".py",
   "mimetype": "text/x-python",
   "name": "python",
   "nbconvert_exporter": "python",
   "pygments_lexer": "ipython3",
   "version": "3.11.4"
  },
  "orig_nbformat": 4
 },
 "nbformat": 4,
 "nbformat_minor": 2
}
